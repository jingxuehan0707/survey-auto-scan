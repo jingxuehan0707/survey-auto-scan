{
 "cells": [
  {
   "cell_type": "code",
   "execution_count": 1,
   "id": "9b80bf52",
   "metadata": {},
   "outputs": [],
   "source": [
    "import PyPDF2\n",
    "import os"
   ]
  },
  {
   "cell_type": "code",
   "execution_count": 2,
   "id": "d417dbec",
   "metadata": {},
   "outputs": [],
   "source": [
    "scan_folder = \"scan\"\n",
    "survey_folder = \"survey\""
   ]
  },
  {
   "cell_type": "code",
   "execution_count": 3,
   "id": "4cdaca38",
   "metadata": {},
   "outputs": [
    {
     "name": "stdout",
     "output_type": "stream",
     "text": [
      "['scan-20250422-job-1.pdf', 'scan-20250422-job-2.pdf', 'scan-20250429-job-3.pdf', 'scan-20250429-job-2.pdf', 'scan-20250429-job-1.pdf', 'scan-20250415-job-1.pdf', 'scan-20250415-job-2.pdf', 'scan-20250415-job-3.pdf', 'scan-20250414-job-1.pdf']\n"
     ]
    }
   ],
   "source": [
    "pdf_files = [file for file in os.listdir(scan_folder) if file.endswith('.pdf')]\n",
    "print(pdf_files)"
   ]
  },
  {
   "cell_type": "code",
   "execution_count": 4,
   "id": "d4d97508",
   "metadata": {},
   "outputs": [],
   "source": [
    "for pdf_file in pdf_files:\n",
    "    input_path = os.path.join(scan_folder, pdf_file)\n",
    "    output_path = os.path.join(survey_folder, f\"rotated_{pdf_file}\")\n",
    "    \n",
    "    with open(input_path, 'rb') as infile, open(output_path, 'wb') as outfile:\n",
    "        reader = PyPDF2.PdfReader(infile)\n",
    "        writer = PyPDF2.PdfWriter()\n",
    "        \n",
    "        for i, page in enumerate(reader.pages):\n",
    "            if i % 2 == 0:  # Even page (0-based index)\n",
    "                page.rotate(-90)\n",
    "            else:  # Odd page\n",
    "                page.rotate(90)\n",
    "            writer.add_page(page)\n",
    "        \n",
    "        writer.write(outfile)"
   ]
  }
 ],
 "metadata": {
  "kernelspec": {
   "display_name": "geo",
   "language": "python",
   "name": "python3"
  },
  "language_info": {
   "codemirror_mode": {
    "name": "ipython",
    "version": 3
   },
   "file_extension": ".py",
   "mimetype": "text/x-python",
   "name": "python",
   "nbconvert_exporter": "python",
   "pygments_lexer": "ipython3",
   "version": "3.12.7"
  }
 },
 "nbformat": 4,
 "nbformat_minor": 5
}
